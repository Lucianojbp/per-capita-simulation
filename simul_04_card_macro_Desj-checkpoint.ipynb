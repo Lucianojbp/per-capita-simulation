{
 "cells": [
  {
   "cell_type": "code",
   "execution_count": 23,
   "id": "78dcc28a-a39d-45cc-b6ae-d671cacfef13",
   "metadata": {},
   "outputs": [],
   "source": [
    "import random as rnd\n",
    "import numpy as np"
   ]
  },
  {
   "cell_type": "code",
   "execution_count": 24,
   "id": "5a690439-0193-4406-8ea8-b11297009941",
   "metadata": {},
   "outputs": [],
   "source": [
    "# Parâmetros do problema\n",
    "# Cada entrada está na ordem: Pão, Guarnição_pão, Bebida_1_cafe, Aç_Bebida_1_cafe, Bebida_2_1, Bebida_2_2, Aç_Bebida_2 (tudo em gramas)\n",
    "cardapios = dict()\n",
    "cardapios[\"A\"] = ((67.49, 11.64), (5.31, 1.65), (2.34, 0.20), (5.11, 0.61), (3.45, 0.92), (45.16, 9.88), (0, 0))\n",
    "cardapios[\"B\"] = ((67.49, 11.64), (20.31, 5.14), (2.34, 0.20), (5.11, 0.61), (3.45, 0.92), (45.16, 9.88), (0, 0))\n",
    "cardapios[\"C\"] = ((77.17, 15.26), (0, 0), (2.34, 0.20), (5.11, 0.61), (0.97, 0.06), (18.47, 1.83), (1.85, 0.55))\n",
    "cardapios[\"D\"] = ((68.61, 8.92), (0, 0), (2.34, 0.20), (5.11, 0.61), (0.97, 0.06), (18.47, 1.83), (1.85, 0.55))"
   ]
  },
  {
   "cell_type": "code",
   "execution_count": 25,
   "id": "740d5e81-a14f-433c-9c32-5436ff5edb4a",
   "metadata": {},
   "outputs": [],
   "source": [
    "# A composição é o nome dos componentes do cardápio\n",
    "composicao = dict()\n",
    "composicao[\"A\"] = [\"Pao\", \"Margarina\", \"Cafe_1\", \"Ac_Cafe_1\", \"Achoc_po\", \"Leite_acho\", \"Ac_acho\"]\n",
    "composicao[\"B\"] = [\"Pao\", \"Mucarela\", \"Cafe_1\", \"Ac_Cafe_1\", \"Achoc_po\", \"Leite_acho\", \"Ac_acho\"]\n",
    "composicao[\"C\"] = [\"Bolo_Branco\", \"Guarnicao_bolo\", \"Cafe_1\", \"Ac_Cafe_1\", \"Cafe_2\", \"Leite_Cafe_2\", \"Ac_Cafe_2\"]\n",
    "composicao[\"D\"] = [\"Bolo_Chocolate\", \"Guarnicao_bolo\", \"Cafe_1\", \"Ac_Cafe_1\", \"Cafe_2\", \"Leite_Cafe_2\", \"Ac_Cafe_2\"]"
   ]
  },
  {
   "cell_type": "code",
   "execution_count": 26,
   "id": "a1afead9-83e7-4f01-8253-4e2a4f2af737",
   "metadata": {},
   "outputs": [],
   "source": [
    "# Converte o componente do cardápio em seus macro-nutrientes\n",
    "# Carboidratos (g), lipídio (g), proteína (g), fibras (g), sódio (g), calorias (cal), gorduras saturadas (g), açúcar adicionado (g)\n",
    "# As tabelas estão padronizadas em 100 gramas\n",
    "contribuicao = dict()\n",
    "#Pão\n",
    "contribuicao[\"Pao\"] = [53.00, 2.10, 9.50, 2.40, 0.45, 268.00, 0.50, 4.30]\n",
    "contribuicao[\"Bolo_Branco\"] = [46.00, 10.00, 5.60, 0.60, 0.36, 297.00, 4.70, 24.00]\n",
    "contribuicao[\"Bolo_Chocolate\"] = [52.00, 11.00, 6.30, 1.10, 0.38, 330.00, 5.10, 29.00]\n",
    "# Guarnição_pão\n",
    "contribuicao[\"Margarina\"] = [0, 81.70, 0, 0, 0.08, 723.00, 0, 0]\n",
    "contribuicao[\"Mucarela\"] = [3.00, 25.00, 24.00, 0, 0.43, 333.00, 16.00, 0]\n",
    "contribuicao[\"Guarnicao_bolo\"] = [0, 0, 0, 0, 0, 0, 0, 0]#feito\n",
    "# Bebida_1_cafe\n",
    "contribuicao[\"Cafe_1\"] = [0.035, 0.006, 0.008, 0.027, 0.001, 0.224, 0.003, 0]\n",
    "# Aç_Bebida_1_cafe\n",
    "contribuicao[\"Ac_Cafe_1\"] = [99.98, 0, 0, 0, 0, 387.00, 0, 0]\n",
    "# Bebida_2_1\n",
    "contribuicao[\"Achoc_po\"] = [95.00, 0, 0, 0, 0, 380.00, 0, 95.00]\n",
    "contribuicao[\"Cafe_2\"] = [99.98, 0, 0, 0, 0, 387.00, 0, 0]#feito\n",
    "# Bebida_2_2\n",
    "contribuicao[\"Leite_acho\"] = [39.20, 26.90, 25.40, 0, 0.32, 497.00, 1.40, 0]\n",
    "contribuicao[\"Leite_Cafe_2\"] = [39.20, 26.90, 25.40, 0, 0.32, 497.00, 1.40, 0]\n",
    "# Aç_Bebida_2\n",
    "contribuicao[\"Ac_acho\"] = [0, 0, 0, 0, 0, 0, 0, 0]\n",
    "contribuicao[\"Ac_Cafe_2\"] = [99.98, 0, 0, 0, 0, 387.00, 0, 99.98]"
   ]
  },
  {
   "cell_type": "code",
   "execution_count": 33,
   "id": "f0605eda-db34-4f5c-898f-15ba39f4e87c",
   "metadata": {},
   "outputs": [],
   "source": [
    "lista_cardapios = list(cardapios.keys())\n",
    "qtd_cardapios = len(lista_cardapios)\n",
    "qtd_iteracoes = 50000"
   ]
  },
  {
   "cell_type": "code",
   "execution_count": 31,
   "id": "8aab4665-1e71-479c-9fd7-dafacb6e616a",
   "metadata": {},
   "outputs": [],
   "source": [
    "# Roda toda as iteracoes da simulação\n",
    "simulacao = list()\n",
    "for i in range(qtd_iteracoes):\n",
    "    idx = rnd.randint(0, qtd_cardapios - 1)\n",
    "    cardapio_escolhido = lista_cardapios[idx]\n",
    "    # Pega os parâmetros do cardápio\n",
    "    media_pao = cardapios[cardapio_escolhido][0][0]\n",
    "    desvpad_pao = cardapios[cardapio_escolhido][0][1]\n",
    "    media_guarn_pao = cardapios[cardapio_escolhido][1][0]\n",
    "    desvpad_guarn_pao = cardapios[cardapio_escolhido][1][1]\n",
    "    media_cafe_1 = cardapios[cardapio_escolhido][2][0]\n",
    "    desvpad_cafe_1 = cardapios[cardapio_escolhido][2][1]\n",
    "    media_ac_cafe_1 = cardapios[cardapio_escolhido][3][0]\n",
    "    desvpad_ac_cafe_1 = cardapios[cardapio_escolhido][3][1]\n",
    "    media_beb_2_1 = cardapios[cardapio_escolhido][4][0]\n",
    "    desvpad_beb_2_1 = cardapios[cardapio_escolhido][4][1]\n",
    "    media_beb_2_2 = cardapios[cardapio_escolhido][5][0]\n",
    "    desvpad_beb_2_2 = cardapios[cardapio_escolhido][5][1]\n",
    "    media_ac_beb_2 = cardapios[cardapio_escolhido][6][0]\n",
    "    desvpad_ac_beb_2 = cardapios[cardapio_escolhido][6][1]\n",
    "    # Gera os valores do cardápio\n",
    "    consumo_pao = np.random.normal(media_pao, desvpad_pao)\n",
    "    consumo_guarn_pao = np.random.normal(media_guarn_pao, desvpad_guarn_pao)\n",
    "    consumo_cafe_1 = np.random.normal(media_cafe_1, desvpad_cafe_1)\n",
    "    consumo_ac_cafe_1 = np.random.normal(media_ac_cafe_1, desvpad_ac_cafe_1)\n",
    "    consumo_beb_2_1 = np.random.normal(media_beb_2_1, desvpad_beb_2_1)\n",
    "    consumo_beb_2_2 = np.random.normal(media_beb_2_2, desvpad_beb_2_2)\n",
    "    consumo_ac_beb_2 = np.random.normal(media_ac_beb_2, desvpad_ac_beb_2)\n",
    "    # Converte os consumos em macro nutrientes\n",
    "    lista_consumo = [consumo_pao, consumo_guarn_pao, consumo_cafe_1, consumo_ac_cafe_1, consumo_beb_2_1, consumo_beb_2_2, consumo_ac_beb_2]\n",
    "    macronutrientes = [0, 0, 0, 0, 0, 0, 0, 0]\n",
    "    for idx_consumo, consumo in enumerate(lista_consumo):\n",
    "        componente = composicao[cardapio_escolhido][idx_consumo]\n",
    "        centesimais = contribuicao[componente]\n",
    "        for idx_nutriente, _ in enumerate(macronutrientes):\n",
    "            macronutrientes[idx_nutriente] += (consumo / 100) * centesimais[idx_nutriente]\n",
    "    simulacao.append([i + 1, cardapio_escolhido, consumo_pao, consumo_guarn_pao, consumo_cafe_1, consumo_ac_cafe_1, consumo_beb_2_1, consumo_beb_2_2, consumo_ac_beb_2])\n",
    "    simulacao[-1].extend(macronutrientes)"
   ]
  },
  {
   "cell_type": "code",
   "execution_count": 34,
   "id": "0c0fbbd0-3885-477f-a045-b78ffd16ac15",
   "metadata": {},
   "outputs": [],
   "source": [
    "# Salva os dados de simulação em formato CSV\n",
    "arq_csv = \"Dados_simulacao_dj.csv\"\n",
    "with open(arq_csv, 'w+', encoding='utf8') as f:\n",
    "    # Carboidratos (g), lipídio (g), proteína (g), fibras (g), sódio (g), calorias (cal), gorduras saturadas (g), açúcar adicionado (g)\n",
    "\n",
    "    f.write(\"Iteração;Cardápio;Pão;Guarn_pao;Cafe_1;Ac_Cafe_1;Bebida_2_1;Bebida_2_2;Ac_Bebida_2;Carboidratos;Lipídio;Proteína;Fibras;Sódio;Calorias;GS;Açúcar\\n\")\n",
    "    for linha in simulacao:\n",
    "        f.write(str(linha[0]))\n",
    "        for valor in linha[1:]:\n",
    "            f.write(f\";{valor}\")\n",
    "        f.write(\"\\n\")"
   ]
  },
  {
   "cell_type": "code",
   "execution_count": null,
   "id": "39fa8c5d-a749-4c82-844e-b1a4d8909f34",
   "metadata": {},
   "outputs": [],
   "source": []
  },
  {
   "cell_type": "code",
   "execution_count": null,
   "id": "142eeff7-ee6c-46a1-a8b6-c1f8049092a9",
   "metadata": {},
   "outputs": [],
   "source": []
  },
  {
   "cell_type": "code",
   "execution_count": null,
   "id": "2816afcf-b52a-41f0-a1ef-864c27daf2cb",
   "metadata": {},
   "outputs": [],
   "source": []
  }
 ],
 "metadata": {
  "kernelspec": {
   "display_name": "Python 3 (ipykernel)",
   "language": "python",
   "name": "python3"
  },
  "language_info": {
   "codemirror_mode": {
    "name": "ipython",
    "version": 3
   },
   "file_extension": ".py",
   "mimetype": "text/x-python",
   "name": "python",
   "nbconvert_exporter": "python",
   "pygments_lexer": "ipython3",
   "version": "3.12.4"
  }
 },
 "nbformat": 4,
 "nbformat_minor": 5
}
